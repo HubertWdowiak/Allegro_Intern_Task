{
 "cells": [
  {
   "cell_type": "markdown",
   "source": [
    "Twoim zadaniem jest wytrenowanie klasyfikatora binarnego na podzbiorze zbioru MNIST, w którym wyróżniamy klasy (cyfry 0 i 1 mają zostać wyłączone ze zbioru):\n",
    " - Liczby pierwsze (2,3,5,7)\n",
    " - Liczby złożone (4,6,8,9)\n",
    "\n",
    "Napisz wydajną implementację modelu **regresji logistycznej** trenowanego algorytmem ***SGD z momentum***. Cały proces trenowania musisz napisać samodzielnie, w języku Python, korzystając z biblioteki numpy. Na potrzeby zadania niedozwolone jest korzystanie z gotowych implementacji optimizerów i modeli oraz bibliotek do automatycznego różniczkowania funkcji (np. Tensorflow, pytorch, autograd). \n",
    "\n",
    "Dobierz hiperparametry tak, aby uzyskać jak najlepszy wynik na zbiorze walidacyjnym. \n",
    "Wyciągnij i zapisz wnioski z przeprowadzonych eksperymentów.\n",
    "\n",
    "Zbiór MNIST dostępny jest pod linkami: \n",
    "\n",
    "(zbiór treningowy):\n",
    " - http://yann.lecun.com/exdb/mnist/train-images-idx3-ubyte.gz\n",
    " - http://yann.lecun.com/exdb/mnist/train-labels-idx1-ubyte.gz\n",
    "\n",
    "(zbiór walidacyjny):\n",
    " - http://yann.lecun.com/exdb/mnist/t10k-images-idx3-ubyte.gz\n",
    " - http://yann.lecun.com/exdb/mnist/t10k-labels-idx1-ubyte.gz"
   ],
   "metadata": {
    "collapsed": false
   }
  },
  {
   "cell_type": "markdown",
   "source": [
    "Import dataset and reshape it"
   ],
   "metadata": {
    "collapsed": false,
    "pycharm": {
     "name": "#%% md\n"
    }
   }
  },
  {
   "cell_type": "code",
   "execution_count": 1,
   "outputs": [],
   "source": [
    "import numpy as np\n",
    "\n",
    "data = np.fromfile(file='train-images-idx3-ubyte',dtype=np.uint8)\n",
    "X_train = data[16:].reshape((60000,28*28)).astype(np.float128)\n",
    "\n",
    "data = np.fromfile(file='train-labels-idx1-ubyte',dtype=np.uint8)\n",
    "y_train = np.asarray(data[8:].reshape(60000))\n",
    "\n",
    "data = np.fromfile(file='t10k-images-idx3-ubyte',dtype=np.uint8)\n",
    "X_test = data[16:].reshape((10000,28*28)).astype(np.float128)\n",
    "\n",
    "data = np.fromfile(file='t10k-labels-idx1-ubyte',dtype=np.uint8)\n",
    "y_test = np.asarray(data[8:].reshape(10000))"
   ],
   "metadata": {
    "collapsed": false,
    "pycharm": {
     "name": "#%%\n"
    }
   }
  },
  {
   "cell_type": "markdown",
   "source": [
    "Remove (0,1) values and change labels: (2,3,5,7) = 0, (4,6,8,9) = 1"
   ],
   "metadata": {
    "collapsed": false,
    "pycharm": {
     "name": "#%% md\n"
    }
   }
  },
  {
   "cell_type": "code",
   "execution_count": 2,
   "outputs": [],
   "source": [
    "def drop_zero_one(X, y):\n",
    "    indexes = []\n",
    "    for i in range(len(y)):\n",
    "        if y[i] in [0,1]:\n",
    "            indexes.append(i)\n",
    "    X = np.delete(X, indexes, axis=0)\n",
    "    return X.reshape((-1,28*28)), np.delete(y, indexes)\n",
    "\n",
    "X_train_drop, y_train_drop = drop_zero_one(X_train, y_train)\n",
    "X_test_drop, y_test_drop = drop_zero_one(X_test, y_test)\n",
    "\n",
    "n_samples_train = len(y_train_drop)\n",
    "n_samples_test = len(y_test_drop)\n",
    "\n",
    "for i in range(n_samples_train):\n",
    "    y_train_drop[i]  = y_train_drop[i] in [4,6,8,9]\n",
    "\n",
    "for i in range(n_samples_test):\n",
    "    y_test_drop[i] =  y_test_drop[i] in [4,6,8,9]"
   ],
   "metadata": {
    "collapsed": false,
    "pycharm": {
     "name": "#%%\n"
    }
   }
  },
  {
   "cell_type": "markdown",
   "source": [
    "# Logistic Regression using Stochastic Gradient Descend with Momentum.\n",
    "\n",
    "In order to reach best results on our validation set, there is also adaptive gradient (Adagrad) improvement included."
   ],
   "metadata": {
    "collapsed": false,
    "pycharm": {
     "name": "#%% md\n"
    }
   }
  },
  {
   "cell_type": "code",
   "execution_count": 3,
   "outputs": [],
   "source": [
    "class SGD_logistic_regression:\n",
    "\n",
    "    def __init__(self, n_epochs: int=10, learning_rate: float=0.1, momentum_const: float=0, adagrad: bool=False,\n",
    "                 save_accuracy_values: bool=False, numerical_epsilon: float=1e-7, tolerance: float=0):\n",
    "        \"\"\"\n",
    "        :param n_epochs:    sets number of epochs during the learning process\n",
    "\n",
    "        :param learning_rate:   sets learning rate of SGD\n",
    "\n",
    "        :param momentum_const:  sets the value by which the velocity is multiplied, within the\n",
    "                                momentum algorithm\n",
    "\n",
    "        :param adagrad:     value decides if model should use adaptive gradient, or not\n",
    "\n",
    "        :param save_cost_values:    value decides if model should save computed loss function\n",
    "                                    values. If it's set as True, learning process becomes slower\n",
    "\n",
    "        :param numerical_epsilon:   usually small value, that helps to avoid computing errors\n",
    "                                    (mostly inside exp, and log functions)\n",
    "\n",
    "        :param tolerance:   value describes tolerance of loss function. If difference between\n",
    "                            previous loss and current loss is smaller than tolerance param,\n",
    "                            the learning process stops\n",
    "        \"\"\"\n",
    "        self.n_epochs = n_epochs\n",
    "        self.learning_rate = learning_rate\n",
    "        self.momentum_const = momentum_const\n",
    "        self.save_accuracy_value=save_accuracy_values\n",
    "        self.accuracy_values = []\n",
    "        self.adagrad = adagrad\n",
    "        self.numerical_epsilon = numerical_epsilon\n",
    "        self.tolerance = tolerance\n",
    "\n",
    "    def add_bias(self, X: np.ndarray) -> np.ndarray:\n",
    "        \n",
    "        \"\"\"adds intercept x0 = 1 to each instance\"\"\"\n",
    "        return np.c_[np.ones((len(X),1)), X]\n",
    "\n",
    "    def sigma(self, t: np.ndarray):\n",
    "        \"\"\"sigmoid function\"\"\"\n",
    "        return 1/(1+np.exp(-t + 1 + self.numerical_epsilon))\n",
    "\n",
    "    def normalize(self, X: np.ndarray, axis: int=-1, order: int=2) -> np.ndarray:\n",
    "        \"\"\"\n",
    "        normalization of X parameter\n",
    "\n",
    "        :param X:   normalized matrix\n",
    "\n",
    "        :param axis:    if axis is an integer, it specifies the axis of X along\n",
    "                        which to compute the vector norms\n",
    "\n",
    "        :param order:   order of norm\n",
    "        \"\"\"\n",
    "        normed = np.atleast_1d(np.linalg.norm(X, order, axis))\n",
    "        normed[normed==0] = self.numerical_epsilon\n",
    "        return X / np.expand_dims(normed, axis)\n",
    "\n",
    "    def predict_probs(self, X: np.ndarray) -> np.ndarray:\n",
    "        \"\"\"predicts  probability of belonging to positive class\"\"\"\n",
    "        return self.sigma(X.dot(self.theta))\n",
    "\n",
    "    def predict(self, X: np.ndarray) -> np.ndarray:\n",
    "        \"\"\"predict if X instances belong to positive or negative class\"\"\"\n",
    "        X = self.normalize(self.add_bias(X))\n",
    "        return self.predict_probs(X) >= 0.5\n",
    "\n",
    "    def loss(self, h, y):\n",
    "        \"\"\"\n",
    "        cost function\n",
    "\n",
    "        :param h:   probability of belonging to positive class\n",
    "\n",
    "        :param y:\n",
    "        \"\"\"\n",
    "        return (-y * np.log(h + self.numerical_epsilon) -\n",
    "                (1 - y) * np.log(1 - h + self.numerical_epsilon)).mean()\n",
    "\n",
    "    def fit(self, X: np.ndarray, y: np.ndarray) -> None:\n",
    "\n",
    "        #initializing staring values\n",
    "        X_plus_bias = self.normalize(self.add_bias(X))\n",
    "        self.theta = np.random.randn(X_plus_bias.shape[-1], 1)\n",
    "        velocity = np.zeros((X_plus_bias.shape[-1], 1))\n",
    "        squared_gradients = np.zeros((X_plus_bias.shape[-1],1))\n",
    "        train_size = len(X)\n",
    "        prev_accuracy = 0\n",
    "        best_accuracy = 0\n",
    "        best_theta = 0\n",
    "\n",
    "        for epoch in range(self.n_epochs):\n",
    "            indexes = np.random.permutation(range(train_size))\n",
    "            for i in indexes:\n",
    "                xi = X_plus_bias[i: i+1]\n",
    "                yi = y[i]\n",
    "                y_probability =  self.sigma(xi.dot(self.theta))\n",
    "\n",
    "                #adaptive gradient improvement\n",
    "                gradient = xi.T.dot(y_probability - yi)\n",
    "                if self.adagrad:\n",
    "                    squared_gradients += gradient**2\n",
    "                    adjusted_gradient = gradient / np.sqrt(squared_gradients + self.numerical_epsilon)\n",
    "                else:\n",
    "                    adjusted_gradient = gradient\\\n",
    "\n",
    "                #momentum - velocity value\n",
    "                velocity = velocity * self.momentum_const + adjusted_gradient\n",
    "                self.theta = self.theta - self.learning_rate * velocity\n",
    "\n",
    "                #saving accuracy values\n",
    "                if self.save_accuracy_value and not i % 1000 and epoch < 1:\n",
    "                    y_pred = self.predict(X)\n",
    "                    self.accuracy_values.append(SGD_logistic_regression.evaluate(y, y_pred))\n",
    "\n",
    "            #after each epoch check if accuracy change is greater than the tolerance param\n",
    "            #and if current result is better that the best by now\n",
    "            y_pred = self.predict(X)\n",
    "            curr_accuracy = SGD_logistic_regression.evaluate(y, y_pred)\n",
    "\n",
    "            if curr_accuracy > best_accuracy:\n",
    "                best_theta = self.theta\n",
    "                best_accuracy = curr_accuracy\n",
    "\n",
    "            if abs(curr_accuracy - prev_accuracy) < self.tolerance:\n",
    "                break\n",
    "            else:\n",
    "                prev_accuracy = curr_accuracy\n",
    "\n",
    "        self.theta = best_theta\n",
    "\n",
    "    @staticmethod\n",
    "    def evaluate(y_true: np.ndarray, y_pred: np.ndarray) -> float:\n",
    "        true_pos = 0\n",
    "        true_neg = 0\n",
    "        for i in range(len(y_true)):\n",
    "            if y_true[i] == y_pred[i] == 0:\n",
    "                true_neg += 1\n",
    "            elif y_true[i] == y_pred[i] == 1:\n",
    "                true_pos += 1\n",
    "        return (true_pos + true_neg)/len(y_true)\n"
   ],
   "metadata": {
    "collapsed": false,
    "pycharm": {
     "name": "#%%\n"
    }
   }
  },
  {
   "cell_type": "markdown",
   "source": [
    "Here we'll train some different models and check how they manage."
   ],
   "metadata": {
    "collapsed": false,
    "pycharm": {
     "name": "#%% md\n"
    }
   }
  },
  {
   "cell_type": "code",
   "execution_count": 4,
   "outputs": [
    {
     "name": "stdout",
     "output_type": "stream",
     "text": [
      "Accuracy of model without Momentum:  0.909701965757768\n",
      "Accuracy of model with Momentum:  0.9110970196575777\n",
      "Accuracy of model with Momentum + Adagrad:  0.9214965123652504\n"
     ]
    }
   ],
   "source": [
    "model_no_momentum = SGD_logistic_regression(n_epochs=1, learning_rate=0.12, save_accuracy_values=True)\n",
    "model_no_momentum.fit(X_train_drop, y_train_drop)\n",
    "y_pred1 = model_no_momentum.predict(X_test_drop)\n",
    "print('Accuracy of model without Momentum: ', SGD_logistic_regression.evaluate(y_test_drop, y_pred1))\n",
    "\n",
    "model_momentum = SGD_logistic_regression(n_epochs=1, learning_rate=0.12, save_accuracy_values=True, momentum_const=0.9)\n",
    "model_momentum.fit(X_train_drop, y_train_drop)\n",
    "y_pred2 = model_momentum.predict(X_test_drop)\n",
    "print('Accuracy of model with Momentum: ', SGD_logistic_regression.evaluate(y_test_drop, y_pred2))\n",
    "\n",
    "model_momentum_adagrad = SGD_logistic_regression(n_epochs=1, learning_rate=0.12, save_accuracy_values=True,\n",
    "                                                 momentum_const=0.9, adagrad=True)\n",
    "model_momentum_adagrad.fit(X_train_drop, y_train_drop)\n",
    "y_pred3 = model_momentum_adagrad.predict(X_test_drop)\n",
    "print('Accuracy of model with Momentum + Adagrad: ', SGD_logistic_regression.evaluate(y_test_drop, y_pred3))"
   ],
   "metadata": {
    "collapsed": false,
    "pycharm": {
     "name": "#%%\n"
    }
   }
  },
  {
   "cell_type": "markdown",
   "source": [
    "The plot below, shows that at the beginning, there is a huge difference in Momentum/no-Momentum models accuracy.\n",
    "Models which use Momentum algorithm, tend to get closer to convergence point, much quicker than the rest.\n",
    "\n",
    "The best result is reached by the one with adaptive gradient modification.\n",
    "A blue line is clearly visible at the top of our plot, almost from the beginning."
   ],
   "metadata": {
    "collapsed": false,
    "pycharm": {
     "name": "#%% md\n"
    }
   }
  },
  {
   "cell_type": "code",
   "execution_count": 5,
   "outputs": [
    {
     "data": {
      "text/plain": "<Figure size 432x288 with 1 Axes>",
      "image/png": "[encoded data removed]"
     },
     "metadata": {
      "needs_background": "light"
     },
     "output_type": "display_data"
    }
   ],
   "source": [
    "import matplotlib.pyplot as plt\n",
    "plt.plot(range(len(model_no_momentum.accuracy_values)), model_no_momentum.accuracy_values,\n",
    "         'g-', label = 'Accuracy without momentum')\n",
    "plt.plot(range(len(model_momentum.accuracy_values)), model_momentum.accuracy_values,\n",
    "         'r-', label = 'Accuracy with momentum')\n",
    "plt.plot(range(len(model_momentum_adagrad.accuracy_values)), model_momentum_adagrad.accuracy_values,\n",
    "         'b-', label = 'Accuracy with Momentum + Adagrad')\n",
    "plt.legend(loc='best')\n",
    "plt.show()"
   ],
   "metadata": {
    "collapsed": false,
    "pycharm": {
     "name": "#%%\n"
    }
   }
  },
  {
   "cell_type": "markdown",
   "source": [
    "Now I'll compare our model with a Logistic Regression model from Scikit-Learn library"
   ],
   "metadata": {
    "collapsed": false,
    "pycharm": {
     "name": "#%% md\n"
    }
   }
  },
  {
   "cell_type": "code",
   "execution_count": 6,
   "outputs": [
    {
     "name": "stdout",
     "output_type": "stream",
     "text": [
      "timing:  0:00:07.100541\n",
      "Our model accuracy:  0.9194673430564363\n",
      "timing:  0:00:05.126708\n",
      "Scikit Learn Logistic Regression model accuracy:  0.9222574508560558\n"
     ]
    }
   ],
   "source": [
    "import datetime\n",
    "from sklearn.preprocessing import Normalizer\n",
    "from sklearn.linear_model import LogisticRegression\n",
    "\n",
    "now = datetime.datetime.now()\n",
    "best_model = SGD_logistic_regression(n_epochs = 2, learning_rate=0.12, momentum_const=0.9, adagrad=True)\n",
    "best_model.fit(X_train_drop, y_train_drop)\n",
    "pred = best_model.predict(X_test_drop)\n",
    "print('timing: ', datetime.datetime.now() - now)\n",
    "print('Our model accuracy: ', model_no_momentum.evaluate(y_test_drop, pred))\n",
    "\n",
    "#Our models raining process includes normalization\n",
    "normalizer = Normalizer()\n",
    "X_train_drop = normalizer.fit_transform(X_train_drop, y_train_drop)\n",
    "X_test_drop = normalizer.fit_transform(X_test_drop, y_test_drop)\n",
    "\n",
    "now = datetime.datetime.now()\n",
    "mod = LogisticRegression(max_iter=100)\n",
    "mod.fit(X_train_drop, y_train_drop)\n",
    "pred = mod.predict(X_test_drop)\n",
    "print('timing: ', datetime.datetime.now() - now)\n",
    "print('Scikit Learn Logistic Regression model accuracy: ', model_no_momentum.evaluate(y_test_drop, pred))"
   ],
   "metadata": {
    "collapsed": false,
    "pycharm": {
     "name": "#%%\n"
    }
   }
  },
  {
   "cell_type": "markdown",
   "source": [
    "# Results\n",
    "Our model reaches better accuracy with only 2 epochs of training process.\n",
    "Our timing is also fine."
   ],
   "metadata": {
    "collapsed": false,
    "pycharm": {
     "name": "#%% md\n"
    }
   }
  },
  {
   "cell_type": "markdown",
   "source": [
    "Now we'll set n_epochs param as a some bigger number to check if we can get better accuracy."
   ],
   "metadata": {
    "collapsed": false,
    "pycharm": {
     "name": "#%% md\n"
    }
   }
  },
  {
   "cell_type": "code",
   "execution_count": 7,
   "outputs": [
    {
     "name": "stdout",
     "output_type": "stream",
     "text": [
      "timing:  0:00:17.708350\n",
      "Our model accuracy:  0.9255548509828789\n"
     ]
    }
   ],
   "source": [
    "now = datetime.datetime.now()\n",
    "best_model = SGD_logistic_regression(n_epochs = 10, learning_rate=0.12, momentum_const=0.9, adagrad=True)\n",
    "best_model.fit(X_train_drop, y_train_drop)\n",
    "pred = best_model.predict(X_test_drop)\n",
    "print('timing: ', datetime.datetime.now() - now)\n",
    "print('Our model accuracy: ', model_no_momentum.evaluate(y_test_drop, pred))"
   ],
   "metadata": {
    "collapsed": false,
    "pycharm": {
     "name": "#%%\n"
    }
   }
  },
  {
   "cell_type": "markdown",
   "source": [
    "Now we can tell that, our classifier is close to it's limit, in 2 epochs of running."
   ],
   "metadata": {
    "collapsed": false,
    "pycharm": {
     "name": "#%% md\n"
    }
   }
  }
 ],
 "metadata": {
  "kernelspec": {
   "display_name": "Python 3",
   "language": "python",
   "name": "python3"
  },
  "language_info": {
   "codemirror_mode": {
    "name": "ipython",
    "version": 2
   },
   "file_extension": ".py",
   "mimetype": "text/x-python",
   "name": "python",
   "nbconvert_exporter": "python",
   "pygments_lexer": "ipython2",
   "version": "2.7.6"
  }
 },
 "nbformat": 4,
 "nbformat_minor": 0
}